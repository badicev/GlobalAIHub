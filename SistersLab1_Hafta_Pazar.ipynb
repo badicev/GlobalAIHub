{
  "nbformat": 4,
  "nbformat_minor": 0,
  "metadata": {
    "colab": {
      "provenance": [],
      "collapsed_sections": [],
      "include_colab_link": true
    },
    "kernelspec": {
      "name": "python3",
      "display_name": "Python 3"
    },
    "language_info": {
      "name": "python"
    }
  },
  "cells": [
    {
      "cell_type": "markdown",
      "metadata": {
        "id": "view-in-github",
        "colab_type": "text"
      },
      "source": [
        "<a href=\"https://colab.research.google.com/github/badicev/GlobalAIHub/blob/master/SistersLab1_Hafta_Pazar.ipynb\" target=\"_parent\"><img src=\"https://colab.research.google.com/assets/colab-badge.svg\" alt=\"Open In Colab\"/></a>"
      ]
    },
    {
      "cell_type": "markdown",
      "source": [
        "Neden Google Colab?\n",
        "Avantajları ve dezavantajları\n",
        "\n",
        "\n",
        "Python nedir ve nasıl kullanılır?\n",
        "* Yüksek seviyeli ve OOP tabanlı"
      ],
      "metadata": {
        "id": "L5pluzu1loLJ"
      }
    },
    {
      "cell_type": "markdown",
      "source": [
        "**Python**\n",
        "\n",
        "*   Web Geliştirme\n",
        "*   Oyun Geliştirme   ❗Kütüphaneleri inceleyip Unity ile farkı ve benzerliklerini değerlendir \n",
        "*   Yapay Zeka ve Makine Öğrenmesi\n",
        "*   Görüntü İşleme\n",
        "*   Veri Bilimi\n",
        "*   Sağlık\n",
        "*   Crawling\n",
        "*   Ses Teknoloji\n"
      ],
      "metadata": {
        "id": "iGRpZnCJNnBZ"
      }
    },
    {
      "cell_type": "code",
      "source": [
        "print(\"Hello World\")"
      ],
      "metadata": {
        "colab": {
          "base_uri": "https://localhost:8080/"
        },
        "id": "ON0YRrMXQvUH",
        "outputId": "15c30b0e-9376-4273-e3b2-f116d2a74fb4"
      },
      "execution_count": null,
      "outputs": [
        {
          "output_type": "stream",
          "name": "stdout",
          "text": [
            "Hello World\n"
          ]
        }
      ]
    },
    {
      "cell_type": "markdown",
      "source": [
        "**Değişkenler**\n",
        "\n",
        "Programlama dilinde verileri tutan yapılardır.\n",
        "\n",
        "**variable_name = variable_value** \n",
        "\n",
        "age = 38"
      ],
      "metadata": {
        "id": "QF6WIALzXPWu"
      }
    },
    {
      "cell_type": "code",
      "source": [
        "name = \"Duygu\"\n",
        "age = 24\n",
        "salary = 20000.50\n",
        "\n",
        "print(name)\n",
        "print(age)\n",
        "print(salary)"
      ],
      "metadata": {
        "colab": {
          "base_uri": "https://localhost:8080/"
        },
        "id": "N6FS7qS7Xt1y",
        "outputId": "60a9ac8b-5b21-4226-bfbf-e81be706c558"
      },
      "execution_count": null,
      "outputs": [
        {
          "output_type": "stream",
          "name": "stdout",
          "text": [
            "Duygu\n",
            "24\n",
            "20000.5\n"
          ]
        }
      ]
    },
    {
      "cell_type": "markdown",
      "source": [
        "**Değişken Tanımlama Kuralları**\n",
        "\n",
        "* Özel karakterler kullanılmaz.\n",
        "\n",
        "* Değişken harf, rakam, alt çizgi kombinasyonu içermeli\n",
        "\n",
        "* Rakamla başlamamalı\n",
        "\n",
        "* Büyük küçük harf duyarlı\n",
        "  \n",
        "  \n",
        "  person_name\n",
        "\n",
        "  personName"
      ],
      "metadata": {
        "id": "BnBuOJ7PYDfb"
      }
    },
    {
      "cell_type": "markdown",
      "source": [
        "**Bir değişkenin değerini değiştirme**\n",
        "\n",
        "Python'da değişken tiplerini değiştirmek diğer dillere oranla daha kolay.\n",
        "\n",
        "\n",
        "Değişkeni atar atamaz tutacağı değeri kendisi algılayıp değiştiriyor.\n"
      ],
      "metadata": {
        "id": "W8MkJ_WDZO6p"
      }
    },
    {
      "cell_type": "code",
      "source": [
        "variable = 49\n",
        "print(variable)\n",
        "type(variable) #değişken tipini öğrenmek"
      ],
      "metadata": {
        "colab": {
          "base_uri": "https://localhost:8080/"
        },
        "id": "aDzjDBjeYGQ4",
        "outputId": "837618c8-389c-4e07-e1be-5935e756563d"
      },
      "execution_count": null,
      "outputs": [
        {
          "output_type": "stream",
          "name": "stdout",
          "text": [
            "49\n"
          ]
        },
        {
          "output_type": "execute_result",
          "data": {
            "text/plain": [
              "int"
            ]
          },
          "metadata": {},
          "execution_count": 13
        }
      ]
    },
    {
      "cell_type": "code",
      "source": [
        "variable = \"Ben bir stringim.\"\n",
        "type(variable)"
      ],
      "metadata": {
        "colab": {
          "base_uri": "https://localhost:8080/"
        },
        "id": "ZPxoUStXZlKD",
        "outputId": "3ea3aeee-0c13-4811-b522-3bc1c844dcdb"
      },
      "execution_count": null,
      "outputs": [
        {
          "output_type": "execute_result",
          "data": {
            "text/plain": [
              "str"
            ]
          },
          "metadata": {},
          "execution_count": 12
        }
      ]
    },
    {
      "cell_type": "markdown",
      "source": [
        "**Büyük küçük harf duyarlılığı**"
      ],
      "metadata": {
        "id": "W-fhXUB3dB1t"
      }
    },
    {
      "cell_type": "code",
      "source": [
        "variable = \"Basak\"\n",
        "Variable = \"Cevik\"\n",
        "\n",
        "print(variable)\n",
        "print(Variable)"
      ],
      "metadata": {
        "colab": {
          "base_uri": "https://localhost:8080/"
        },
        "id": "-iztpck4ZwBs",
        "outputId": "b270d8bb-6546-4d32-b275-2b4f0fbf6aa9"
      },
      "execution_count": null,
      "outputs": [
        {
          "output_type": "stream",
          "name": "stdout",
          "text": [
            "Basak\n",
            "Cevik\n"
          ]
        }
      ]
    },
    {
      "cell_type": "markdown",
      "source": [
        "**Kullanamayacağımız keywordler bulunmaktadır.**"
      ],
      "metadata": {
        "id": "iSp4a8kGcX6i"
      }
    },
    {
      "cell_type": "code",
      "source": [
        "help(\"keywords\")"
      ],
      "metadata": {
        "colab": {
          "base_uri": "https://localhost:8080/"
        },
        "id": "9bZz3KANciXK",
        "outputId": "f0a246d1-a96e-44a8-eb64-c2069517045f"
      },
      "execution_count": null,
      "outputs": [
        {
          "output_type": "stream",
          "name": "stdout",
          "text": [
            "\n",
            "Here is a list of the Python keywords.  Enter any keyword to get more help.\n",
            "\n",
            "False               class               from                or\n",
            "None                continue            global              pass\n",
            "True                def                 if                  raise\n",
            "and                 del                 import              return\n",
            "as                  elif                in                  try\n",
            "assert              else                is                  while\n",
            "async               except              lambda              with\n",
            "await               finally             nonlocal            yield\n",
            "break               for                 not                 \n",
            "\n"
          ]
        }
      ]
    },
    {
      "cell_type": "markdown",
      "source": [
        "**Veri Tipleri**\n",
        "\n",
        "* Int\n",
        "* Float\n",
        "* Boolean\n",
        "* String"
      ],
      "metadata": {
        "id": "hisqHX4wlTW6"
      }
    },
    {
      "cell_type": "markdown",
      "source": [
        "**Integer**\n"
      ],
      "metadata": {
        "id": "ysU_M_REluRa"
      }
    },
    {
      "cell_type": "code",
      "source": [
        "age = 26"
      ],
      "metadata": {
        "id": "YXzx2LIHl401"
      },
      "execution_count": null,
      "outputs": []
    },
    {
      "cell_type": "markdown",
      "source": [
        "**Float**"
      ],
      "metadata": {
        "id": "LsYsT02VluMI"
      }
    },
    {
      "cell_type": "code",
      "source": [
        "pi_sayisi = 3.14"
      ],
      "metadata": {
        "id": "_cc-loprl61t"
      },
      "execution_count": null,
      "outputs": []
    },
    {
      "cell_type": "markdown",
      "source": [
        "**Boolean**\n",
        "\n",
        "True-False"
      ],
      "metadata": {
        "id": "ugfkv3kvl3bX"
      }
    },
    {
      "cell_type": "code",
      "source": [
        "isFemale = True"
      ],
      "metadata": {
        "id": "LkivKIdvl19E"
      },
      "execution_count": null,
      "outputs": []
    },
    {
      "cell_type": "markdown",
      "source": [
        "**String**\n",
        "\n",
        "' \""
      ],
      "metadata": {
        "id": "UV-_SktxmFga"
      }
    },
    {
      "cell_type": "code",
      "source": [
        "language = \"Python\""
      ],
      "metadata": {
        "id": "b6Cnll6WmAbG"
      },
      "execution_count": null,
      "outputs": []
    },
    {
      "cell_type": "markdown",
      "source": [
        "**Çoklu Değişken Atama**"
      ],
      "metadata": {
        "id": "N_xZi7nLmjGX"
      }
    },
    {
      "cell_type": "code",
      "source": [
        "number1 = number2 = number3 = 20\n",
        "print(number2)"
      ],
      "metadata": {
        "colab": {
          "base_uri": "https://localhost:8080/"
        },
        "id": "wy7ageRTmVY8",
        "outputId": "4fad57ba-9f1f-41f1-b5b6-724fdc234041"
      },
      "execution_count": null,
      "outputs": [
        {
          "output_type": "stream",
          "name": "stdout",
          "text": [
            "20\n"
          ]
        }
      ]
    },
    {
      "cell_type": "code",
      "source": [
        "name, age, salary, letter, isNumber = \"Derya\", 25, 20000, 'a', False\n",
        "print(name)\n",
        "print(age)\n",
        "print(salary)\n",
        "print(letter)\n",
        "print(False)"
      ],
      "metadata": {
        "colab": {
          "base_uri": "https://localhost:8080/"
        },
        "id": "Ga4MVuklmvY3",
        "outputId": "b850da18-bb21-45b2-d963-3d0ad9c30757"
      },
      "execution_count": null,
      "outputs": [
        {
          "output_type": "stream",
          "name": "stdout",
          "text": [
            "Derya\n",
            "25\n",
            "20000\n",
            "a\n",
            "False\n"
          ]
        }
      ]
    },
    {
      "cell_type": "markdown",
      "source": [
        "**Değişkenlerde Kapsam**\n",
        "\n",
        "\n",
        "Bir değişkenin kapsamı hangi alanda kullanıldığı ve nerelerden erişilebildiğini belirler.\n",
        "\n",
        "* Yerel\n",
        "* Global"
      ],
      "metadata": {
        "id": "B2aFD55eoAsp"
      }
    },
    {
      "cell_type": "markdown",
      "source": [
        "**Yerel Değişken**\n",
        "\n",
        "Tanımlandığı yerdeki kod bloğunda çalışan değişkenlerdir. Başkayerden erişilemezler.\n"
      ],
      "metadata": {
        "id": "NqzDRAlvo1Y2"
      }
    },
    {
      "cell_type": "code",
      "source": [
        "def getSalary1():\n",
        "  salary = 10000\n",
        "  print(\"salary1\", salary)\n",
        "\n",
        "def getSalary2():\n",
        "  print(\"salary2\", salary)\n",
        "\n",
        "getSalary1()\n",
        "getSalary2()\n",
        "\n",
        "\n",
        "#bu kod çalışır çünkü salary daha önce hafızada tutuldu.   \n",
        "#kendini çağıran methodlaar recursive'larda kullanılır"
      ],
      "metadata": {
        "colab": {
          "base_uri": "https://localhost:8080/"
        },
        "id": "ugBC4Gw2oBE7",
        "outputId": "ff37400b-3b60-4656-affa-d15d34688cc0"
      },
      "execution_count": null,
      "outputs": [
        {
          "output_type": "stream",
          "name": "stdout",
          "text": [
            "salary1 10000\n",
            "salary2 20000\n"
          ]
        }
      ]
    },
    {
      "cell_type": "code",
      "source": [
        "#Eğer metodun içinde tanımladığını dışında çağırmaya çalışırsan hata alırsın.\n",
        "#Bu çalışmayacak çünkü kullandığımız metodun dışından çağırdık salary1'i.\n",
        "\n",
        "def getSalary1():\n",
        "  salary1 = 10000\n",
        "  print(\"salary1\", salary1)\n",
        "\n",
        "getSalary1()\n",
        "print(\"salary1\", salary1)"
      ],
      "metadata": {
        "colab": {
          "base_uri": "https://localhost:8080/",
          "height": 218
        },
        "id": "Yess1E5jp9rA",
        "outputId": "182330bd-8b22-4ce4-b6e1-38a055e62995"
      },
      "execution_count": null,
      "outputs": [
        {
          "output_type": "stream",
          "name": "stdout",
          "text": [
            "salary1 10000\n"
          ]
        },
        {
          "output_type": "error",
          "ename": "NameError",
          "evalue": "ignored",
          "traceback": [
            "\u001b[0;31m---------------------------------------------------------------------------\u001b[0m",
            "\u001b[0;31mNameError\u001b[0m                                 Traceback (most recent call last)",
            "\u001b[0;32m<ipython-input-39-426b155b1bab>\u001b[0m in \u001b[0;36m<module>\u001b[0;34m\u001b[0m\n\u001b[1;32m      6\u001b[0m \u001b[0;34m\u001b[0m\u001b[0m\n\u001b[1;32m      7\u001b[0m \u001b[0mgetSalary1\u001b[0m\u001b[0;34m(\u001b[0m\u001b[0;34m)\u001b[0m\u001b[0;34m\u001b[0m\u001b[0;34m\u001b[0m\u001b[0m\n\u001b[0;32m----> 8\u001b[0;31m \u001b[0mprint\u001b[0m\u001b[0;34m(\u001b[0m\u001b[0;34m\"salary1\"\u001b[0m\u001b[0;34m,\u001b[0m \u001b[0msalary1\u001b[0m\u001b[0;34m)\u001b[0m\u001b[0;34m\u001b[0m\u001b[0;34m\u001b[0m\u001b[0m\n\u001b[0m",
            "\u001b[0;31mNameError\u001b[0m: name 'salary1' is not defined"
          ]
        }
      ]
    },
    {
      "cell_type": "markdown",
      "source": [
        "**Global Değişkenler**\n",
        "\n",
        "Kodun her yerinden erişilebilen değişkenlerdir."
      ],
      "metadata": {
        "id": "WuwmUwhhvKY8"
      }
    },
    {
      "cell_type": "code",
      "source": [
        "salary1 = 10000\n",
        "\n",
        "def getSalary1():\n",
        "  salary1 = 15000\n",
        "  print(\"salary1\", salary1)\n",
        "\n",
        "def getSalary2():\n",
        "  print(\"salary2\", salary1)\n",
        "\n",
        "getSalary1()\n",
        "getSalary2()\n",
        "\n",
        "print(\"main\", salary1)"
      ],
      "metadata": {
        "colab": {
          "base_uri": "https://localhost:8080/"
        },
        "id": "c4_8UHsPrZtz",
        "outputId": "6352401c-16f6-4792-ef80-7cb9eba9d865"
      },
      "execution_count": null,
      "outputs": [
        {
          "output_type": "stream",
          "name": "stdout",
          "text": [
            "salary1 15000\n",
            "salary2 10000\n",
            "main 10000\n"
          ]
        }
      ]
    },
    {
      "cell_type": "code",
      "source": [
        "salary1 = 10000\n",
        "\n",
        "def getSalary1():\n",
        "  global salary1\n",
        "  salary1 = 15000\n",
        "  print(\"salary1\", salary1)\n",
        "\n",
        "def getSalary2():\n",
        "  print(\"salary2\", salary1)\n",
        "\n",
        "getSalary1()\n",
        "getSalary2()\n",
        "\n",
        "print(\"main\", salary1)"
      ],
      "metadata": {
        "colab": {
          "base_uri": "https://localhost:8080/"
        },
        "id": "U9KPPYXavb2s",
        "outputId": "755533f1-04ef-4753-ce26-efbdfa94b607"
      },
      "execution_count": null,
      "outputs": [
        {
          "output_type": "stream",
          "name": "stdout",
          "text": [
            "salary1 15000\n",
            "salary2 15000\n",
            "main 15000\n"
          ]
        }
      ]
    },
    {
      "cell_type": "markdown",
      "source": [
        "**Operatörler**\n",
        "\n",
        "*****\n",
        "**+** Toplama\n",
        "\n",
        "**-** Çıkarma\n",
        "\n",
        "\n",
        "**'*'** Çarpma\n",
        "\n",
        "**/** Float Bölme\n",
        "\n",
        "**//** Int Bölme\n",
        "\n",
        "**%** Mod Alma\n",
        "\n",
        "**  Üs Alma\n",
        "\n",
        "*****\n"
      ],
      "metadata": {
        "id": "oWa6sRfL3BvL"
      }
    },
    {
      "cell_type": "code",
      "source": [
        "print(\"3 + 2 = \", 3 + 2)\n",
        "print(\"7 - 3 = \", 7 - 3)\n",
        "print(\"5 * 4 = \", 5 * 4)\n",
        "print(\"6 / 3 = \", 6 / 3)\n",
        "print(\"6 //4 = \", 6 //4)\n",
        "print(\"9 % 4 = \", 9 % 4)\n",
        "print(\"2 ** 5= \", 2 **5)\n"
      ],
      "metadata": {
        "id": "djxY9D2Txneo",
        "colab": {
          "base_uri": "https://localhost:8080/"
        },
        "outputId": "938d6418-3970-4c1e-b7ef-e62575a2c393"
      },
      "execution_count": null,
      "outputs": [
        {
          "output_type": "stream",
          "name": "stdout",
          "text": [
            "3 + 2 =  5\n",
            "7 - 3 =  4\n",
            "5 * 4 =  20\n",
            "6 / 3 =  2.0\n",
            "6 //4 =  1\n",
            "9 % 4 =  1\n",
            "2 ** 5=  32\n"
          ]
        }
      ]
    },
    {
      "cell_type": "markdown",
      "source": [
        "\n",
        "\n",
        "**İlişkisel (karşılaştırma) Operatörleri**\n",
        "\n",
        "< Küçüktür\n",
        "\n",
        "'>' Büyüktür\n",
        "\n",
        "<= Küçük Eşittir\n",
        "\n",
        "'>=' Büyük Eşittir\n",
        "\n",
        "== Eşittir\n",
        "\n",
        "!= Eşit Değildir\n"
      ],
      "metadata": {
        "id": "4haMXXgw59n6"
      }
    },
    {
      "cell_type": "code",
      "source": [
        "a = 29\n",
        "b = 13\n",
        "\n",
        "print(a < b)"
      ],
      "metadata": {
        "colab": {
          "base_uri": "https://localhost:8080/"
        },
        "id": "FFrpymsY5_FZ",
        "outputId": "e3e80fb8-8ce7-410c-ff3f-eb05144c6403"
      },
      "execution_count": 1,
      "outputs": [
        {
          "output_type": "stream",
          "name": "stdout",
          "text": [
            "False\n"
          ]
        }
      ]
    },
    {
      "cell_type": "markdown",
      "source": [
        "**Atama Operatörleri**\n",
        "\n",
        "=, +=, -=, *=, /=, //=, %=, \n",
        "\n",
        "**="
      ],
      "metadata": {
        "id": "baHkwapZ7Vz7"
      }
    },
    {
      "cell_type": "code",
      "source": [
        "x = 1\n",
        "print(x)\n",
        "\n",
        "\n",
        "x += 2 # x = x + 2 ile aynı\n",
        "print(x)\n",
        "\n",
        "x -= 1 # x = x - 1 ile aynı\n",
        "print(x)\n",
        "\n",
        "x *= 9 # x = x * 9 ile aynı\n",
        "print(x)\n",
        "\n",
        "x /= 2 # x = x / 2 ile aynı\n",
        "print(x)\n",
        "\n",
        "x //= 4 # x = x // 4 ile aynı\n",
        "print(x)\n",
        "\n",
        "x **= 3 # x = x ** 3 ile aynı\n",
        "print(x)\n",
        "\n",
        "x %= 3 # x = x % 3 ile aynı\n",
        "print(x)"
      ],
      "metadata": {
        "colab": {
          "base_uri": "https://localhost:8080/"
        },
        "id": "GrHFDWWq69Cv",
        "outputId": "a2f1ab72-583a-4ab7-b62a-83f62a36ca62"
      },
      "execution_count": 12,
      "outputs": [
        {
          "output_type": "stream",
          "name": "stdout",
          "text": [
            "1\n",
            "3\n",
            "2\n",
            "18\n",
            "9.0\n",
            "2.0\n",
            "8.0\n",
            "2.0\n"
          ]
        }
      ]
    },
    {
      "cell_type": "markdown",
      "source": [
        "**Python Comments**\n",
        "\n",
        "* refactor etme\n",
        "\n"
      ],
      "metadata": {
        "id": "leM0rcq4_K2Q"
      }
    },
    {
      "cell_type": "code",
      "source": [
        "#Bu bir yorum satırıdır. \n",
        "print(\"Yorum satırları çıktıda bastırılmaz.\")"
      ],
      "metadata": {
        "colab": {
          "base_uri": "https://localhost:8080/"
        },
        "id": "8cAIWhmt7xgj",
        "outputId": "ab6cf2cb-a1c0-4d3a-8d79-cbee50db5ff3"
      },
      "execution_count": 13,
      "outputs": [
        {
          "output_type": "stream",
          "name": "stdout",
          "text": [
            "Yorum satırları çıktıda bastırılmaz.\n"
          ]
        }
      ]
    },
    {
      "cell_type": "code",
      "source": [
        "'''\n",
        "print(\"3 + 2 = \", 3 + 2)\n",
        "print(\"7 - 3 = \", 7 - 3)\n",
        "print(\"5 * 4 = \", 5 * 4)\n",
        "print(\"6 / 3 = \", 6 / 3)\n",
        "print(\"6 //4 = \", 6 //4)\n",
        "'''\n",
        "print(\"9 % 4 = \", 9 % 4)\n",
        "print(\"2 ** 5= \", 2 **5)"
      ],
      "metadata": {
        "colab": {
          "base_uri": "https://localhost:8080/"
        },
        "id": "9aTP38T3_uEx",
        "outputId": "a04da69a-4d2e-4d57-bb06-84f5a91a07b6"
      },
      "execution_count": 14,
      "outputs": [
        {
          "output_type": "stream",
          "name": "stdout",
          "text": [
            "9 % 4 =  1\n",
            "2 ** 5=  32\n"
          ]
        }
      ]
    },
    {
      "cell_type": "code",
      "source": [],
      "metadata": {
        "id": "qudvpsgV_9_1"
      },
      "execution_count": null,
      "outputs": []
    }
  ]
}